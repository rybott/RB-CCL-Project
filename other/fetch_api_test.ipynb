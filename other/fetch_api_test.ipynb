{
 "cells": [
  {
   "cell_type": "markdown",
   "metadata": {},
   "source": [
    "# Testing the Expense Fetching Function"
   ]
  },
  {
   "cell_type": "code",
   "execution_count": 3,
   "metadata": {},
   "outputs": [
    {
     "data": {
      "text/plain": [
       "('OK', [b'Returned to authenticated state. (Success)'])"
      ]
     },
     "execution_count": 3,
     "metadata": {},
     "output_type": "execute_result"
    }
   ],
   "source": [
    "import imaplib\n",
    "import email\n",
    "from datetime import datetime, timedelta\n",
    "\n",
    "# Email Server\n",
    "imap_server = \"imap.gmail.com\"\n",
    "email_address = \"rybott5000.5@gmail.com\"\n",
    "pw = \"piau rbar zvoy zirl\"\n",
    "imap = imaplib.IMAP4_SSL(imap_server)\n",
    "imap.login(email_address, pw)\n",
    "\n",
    "# Start End Date\n",
    "end_date = datetime.now()\n",
    "start_date = end_date - timedelta(days=730)\n",
    "start_str = start_date.strftime(\"%d-%b-%Y\")\n",
    "end_str = (end_date + timedelta(days=1)).strftime(\"%d-%b-%Y\")\n",
    "\n",
    "# Search Email\n",
    "imap.select(\"Transactions\")\n",
    "_, msgnums = imap.search(None, f'(SINCE \"{start_str}\" BEFORE \"{end_str}\")')\n",
    "\n",
    "contents = []\n",
    "\n",
    "for msgnum in msgnums[0].split():\n",
    "  for _ in range(1):\n",
    "    _, data = imap.fetch(msgnum, \"(RFC822)\")\n",
    "    message = email.message_from_bytes(data[0][1])\n",
    "    for part in message.walk():\n",
    "      if part.get_content_type() == \"text/plain\":\n",
    "        contents.append(part.as_string())\n",
    "\n",
    "\n",
    "imap.close()"
   ]
  },
  {
   "cell_type": "code",
   "execution_count": 4,
   "metadata": {},
   "outputs": [
    {
     "name": "stdout",
     "output_type": "stream",
     "text": [
      "       Sender    Transaction_Date                Merchant Amount\n",
      "0    Discover  September 27, 2023     PAYPAL *DISNEY PLUS   7.99\n",
      "1    Discover  September 27, 2023          MTA*NYCT PAYGO   2.90\n",
      "2    Discover    October 12, 2023          MTA*NYCT PAYGO   2.90\n",
      "3    Discover    October 12, 2023      DUNKIN #351785 Q35   5.65\n",
      "4    Discover    October 12, 2023          MTA*NYCT PAYGO   2.90\n",
      "..        ...                 ...                     ...    ...\n",
      "622  Discover       July 22, 2024    AMAZON MKTPLACE PMTS  71.61\n",
      "623  Discover       July 22, 2024  GOOGLE *YouTubePremium   7.99\n",
      "624  Discover       July 26, 2024     PAYPAL *STARBUCKSSE   7.35\n",
      "625  Discover       July 28, 2024        Prime Video TVOD   3.79\n",
      "626  Discover       July 28, 2024    AMAZON MKTPLACE PMTS  11.39\n",
      "\n",
      "[627 rows x 4 columns]\n"
     ]
    }
   ],
   "source": [
    "import re\n",
    "import pandas as pd\n",
    "\n",
    "Sender = []\n",
    "Merchant = []\n",
    "Amount = []\n",
    "Date = []\n",
    "\n",
    "\n",
    "for email_content in contents:\n",
    "\n",
    "  # Sender\n",
    "  if 'Discover' in email_content:\n",
    "    sender = 'Discover'\n",
    "  elif 'Chase' in email_content:\n",
    "    sender = 'Chase'\n",
    "  else:\n",
    "    sender = 'Other'\n",
    "  Sender.append(sender)\n",
    "  \n",
    "  # Pattern for Merchant\n",
    "  merchant_pattern = r\"Merchant:\\s*(?P<merchant>.*?)\\n\"\n",
    "  merchant_match = re.search(merchant_pattern, email_content)\n",
    "  if merchant_match:\n",
    "      merchant = merchant_match.group(\"merchant\")\n",
    "  else:\n",
    "      merchant = None\n",
    "  Merchant.append(merchant)\n",
    "\n",
    "  # Pattern for Amount\n",
    "  amount_pattern = r\"Amount:\\s*\\$(?P<amount>[\\d\\.]+)\"\n",
    "  amount_match = re.search(amount_pattern, email_content)\n",
    "  if amount_match:\n",
    "      amount = amount_match.group(\"amount\")\n",
    "  else:\n",
    "      amount = None\n",
    "  Amount.append(amount)\n",
    "\n",
    "  # Pattern for Transaction Date\n",
    "  date_pattern = r\"Transaction Date::\\s*(?P<date>.*?)\\n\"\n",
    "  date_match = re.search(date_pattern, email_content)\n",
    "  if date_match:\n",
    "      transaction_date = date_match.group(\"date\")\n",
    "  else:\n",
    "      transaction_date = None\n",
    "  Date.append(transaction_date)\n",
    "\n",
    "Transactions_df = pd.DataFrame({\n",
    "  'Sender':Sender,\n",
    "  'Transaction_Date':Date,\n",
    "  'Merchant':Merchant,\n",
    "  'Amount':Amount\n",
    "})\n",
    "\n",
    "print(Transactions_df)"
   ]
  },
  {
   "cell_type": "code",
   "execution_count": null,
   "metadata": {},
   "outputs": [],
   "source": [
    "with pd.ExcelWriter('Discover Transaction.xlsx') as writer:\n",
    "    Transactions_df.to_excel(writer, sheet_name='Sheet1', index=False)"
   ]
  }
 ],
 "metadata": {
  "kernelspec": {
   "display_name": "Python 3",
   "language": "python",
   "name": "python3"
  },
  "language_info": {
   "codemirror_mode": {
    "name": "ipython",
    "version": 3
   },
   "file_extension": ".py",
   "mimetype": "text/x-python",
   "name": "python",
   "nbconvert_exporter": "python",
   "pygments_lexer": "ipython3",
   "version": "3.11.4"
  },
  "orig_nbformat": 4
 },
 "nbformat": 4,
 "nbformat_minor": 2
}
